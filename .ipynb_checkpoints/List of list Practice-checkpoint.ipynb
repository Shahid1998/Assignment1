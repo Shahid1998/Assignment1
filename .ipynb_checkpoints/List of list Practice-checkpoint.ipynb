{
 "cells": [
  {
   "cell_type": "code",
   "execution_count": 1,
   "metadata": {},
   "outputs": [],
   "source": [
    "student1=[\"Shahid\",22,\"Male\",\"AI\",\"CNIC1\"]\n",
    "student2=[\"Yasir\",23,\"Male\",\"CC\",\"CNIC2\"]\n",
    "student3=[\"Zaid\",24,\"Male\",\"Cloud\",\"CNIC3\"]\n"
   ]
  },
  {
   "cell_type": "code",
   "execution_count": 2,
   "metadata": {},
   "outputs": [
    {
     "data": {
      "text/plain": [
       "[['Shahid', 22, 'Male', 'AI', 'CNIC1'],\n",
       " ['Yasir', 23, 'Male', 'CC', 'CNIC2'],\n",
       " ['Zaid', 24, 'Male', 'Cloud', 'CNIC3'],\n",
       " ['Mazhar', 24, 'AI', 'CNIC4'],\n",
       " ['Ali', 22, 'CC', 'CNIC5']]"
      ]
     },
     "execution_count": 2,
     "metadata": {},
     "output_type": "execute_result"
    }
   ],
   "source": [
    "student=[student1,student2,student3,[\"Mazhar\",24,\"AI\",\"CNIC4\"],[\"Ali\",22,\"CC\",\"CNIC5\"]]\n",
    "student"
   ]
  },
  {
   "cell_type": "code",
   "execution_count": 3,
   "metadata": {},
   "outputs": [],
   "source": [
    "student[0][1]=25 # value updated"
   ]
  },
  {
   "cell_type": "code",
   "execution_count": 4,
   "metadata": {},
   "outputs": [
    {
     "data": {
      "text/plain": [
       "[['Shahid', 25, 'Male', 'AI', 'CNIC1'],\n",
       " ['Yasir', 23, 'Male', 'CC', 'CNIC2'],\n",
       " ['Zaid', 24, 'Male', 'Cloud', 'CNIC3'],\n",
       " ['Mazhar', 24, 'AI', 'CNIC4'],\n",
       " ['Ali', 22, 'CC', 'CNIC5']]"
      ]
     },
     "execution_count": 4,
     "metadata": {},
     "output_type": "execute_result"
    }
   ],
   "source": [
    "student"
   ]
  },
  {
   "cell_type": "code",
   "execution_count": 5,
   "metadata": {},
   "outputs": [
    {
     "data": {
      "text/plain": [
       "[['Shahid', 25, 'Male', 'AI', 'CNIC1'],\n",
       " ['Yasir', 23, 'Male', 'CC', 'CNIC2'],\n",
       " ['Zaid', 24, 'Male', 'Cloud', 'CNIC3'],\n",
       " ['Mazhar', 24, 'AI', 20000, 'CNIC4'],\n",
       " ['Ali', 22, 'CC', 'CNIC5']]"
      ]
     },
     "execution_count": 5,
     "metadata": {},
     "output_type": "execute_result"
    }
   ],
   "source": [
    "student[3].insert(3,20000)\n",
    "student"
   ]
  },
  {
   "cell_type": "code",
   "execution_count": 6,
   "metadata": {},
   "outputs": [
    {
     "data": {
      "text/plain": [
       "[['Shahid', 25, 'Male', 'AI', 'CNIC1'],\n",
       " ['Yasir', 23, 'Male', 'CC', 'CNIC2'],\n",
       " ['Zaid', 24, 'Male', 'Cloud', 'CNIC3'],\n",
       " ['Mazhar', 24, 'AI', 20000, 'CNIC4'],\n",
       " ['Ali', 22, 'CC', 'Male', 'CNIC5']]"
      ]
     },
     "execution_count": 6,
     "metadata": {},
     "output_type": "execute_result"
    }
   ],
   "source": [
    "student[4].insert(3,\"Male\")\n",
    "student"
   ]
  },
  {
   "cell_type": "code",
   "execution_count": 8,
   "metadata": {},
   "outputs": [
    {
     "data": {
      "text/plain": [
       "[['Shahid', 25, 'Male', 'AI', 'CNIC1'],\n",
       " ['Yasir', 23, 'Male', 'CC', 'CNIC2'],\n",
       " ['Zaid', 24, 'Male', 'Cloud', 'CNIC3'],\n",
       " ['Mazhar', 24, 'Male', 'Male', 'CNIC4'],\n",
       " ['Ali', 22, 'CC', 'Male', 'CNIC5']]"
      ]
     },
     "execution_count": 8,
     "metadata": {},
     "output_type": "execute_result"
    }
   ],
   "source": [
    "student[3][2]=\"Male\"\n",
    "student"
   ]
  },
  {
   "cell_type": "code",
   "execution_count": 9,
   "metadata": {},
   "outputs": [],
   "source": [
    "del student[0][4]"
   ]
  },
  {
   "cell_type": "code",
   "execution_count": 10,
   "metadata": {},
   "outputs": [
    {
     "data": {
      "text/plain": [
       "[['Shahid', 25, 'Male', 'AI'],\n",
       " ['Yasir', 23, 'Male', 'CC', 'CNIC2'],\n",
       " ['Zaid', 24, 'Male', 'Cloud', 'CNIC3'],\n",
       " ['Mazhar', 24, 'Male', 'Male', 'CNIC4'],\n",
       " ['Ali', 22, 'CC', 'Male', 'CNIC5']]"
      ]
     },
     "execution_count": 10,
     "metadata": {},
     "output_type": "execute_result"
    }
   ],
   "source": [
    "student"
   ]
  },
  {
   "cell_type": "code",
   "execution_count": 11,
   "metadata": {},
   "outputs": [
    {
     "data": {
      "text/plain": [
       "[['Shahid', 25, 'Male', 'AI', 'CNIC1'],\n",
       " ['Yasir', 23, 'Male', 'CC', 'CNIC2'],\n",
       " ['Zaid', 24, 'Male', 'Cloud', 'CNIC3'],\n",
       " ['Mazhar', 24, 'Male', 'Male', 'CNIC4'],\n",
       " ['Ali', 22, 'CC', 'Male', 'CNIC5']]"
      ]
     },
     "execution_count": 11,
     "metadata": {},
     "output_type": "execute_result"
    }
   ],
   "source": [
    "student[0].append(\"CNIC1\")\n",
    "student"
   ]
  },
  {
   "cell_type": "code",
   "execution_count": 21,
   "metadata": {},
   "outputs": [
    {
     "name": "stdout",
     "output_type": "stream",
     "text": [
      "118\n"
     ]
    }
   ],
   "source": [
    "print(student[0][1]+student[1][1]+student[2][1]+student[3][1]+student[4][1])"
   ]
  },
  {
   "cell_type": "code",
   "execution_count": 19,
   "metadata": {},
   "outputs": [
    {
     "name": "stdout",
     "output_type": "stream",
     "text": [
      "25 23 24\n"
     ]
    }
   ],
   "source": [
    "print(student[0][1],student[1][1],student[2][1],student[3][1],student[4][1])"
   ]
  },
  {
   "cell_type": "code",
   "execution_count": null,
   "metadata": {},
   "outputs": [],
   "source": []
  }
 ],
 "metadata": {
  "kernelspec": {
   "display_name": "Python 3",
   "language": "python",
   "name": "python3"
  },
  "language_info": {
   "codemirror_mode": {
    "name": "ipython",
    "version": 3
   },
   "file_extension": ".py",
   "mimetype": "text/x-python",
   "name": "python",
   "nbconvert_exporter": "python",
   "pygments_lexer": "ipython3",
   "version": "3.7.4"
  }
 },
 "nbformat": 4,
 "nbformat_minor": 2
}
