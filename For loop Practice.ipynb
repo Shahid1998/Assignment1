{
 "cells": [
  {
   "cell_type": "code",
   "execution_count": 1,
   "metadata": {},
   "outputs": [
    {
     "data": {
      "text/plain": [
       "[['Shahid', 21, 'Male', 'AI Eng', 'AI Eng', 'AI Eng'],\n",
       " ['Ali', 22, 'Male'],\n",
       " ['Nasir', 33, 'Male', 'shahid'],\n",
       " ['sajid', 43, 'Male']]"
      ]
     },
     "execution_count": 1,
     "metadata": {},
     "output_type": "execute_result"
    }
   ],
   "source": [
    "employees=[['Shahid', 21, 'Male', 'AI Eng', 'AI Eng', 'AI Eng'],\n",
    " ['Ali', 22, 'Male'],\n",
    " ['Nasir', 33, 'Male', 'shahid'],\n",
    " ['sajid', 43, 'Male']]\n",
    "employees"
   ]
  },
  {
   "cell_type": "code",
   "execution_count": 6,
   "metadata": {},
   "outputs": [
    {
     "data": {
      "text/plain": [
       "119"
      ]
     },
     "execution_count": 6,
     "metadata": {},
     "output_type": "execute_result"
    }
   ],
   "source": [
    "employees[0][1]+employees[1][1]+employees[2][1]+employees[3][1]"
   ]
  },
  {
   "cell_type": "code",
   "execution_count": 13,
   "metadata": {},
   "outputs": [],
   "source": [
    "tot_age=0\n",
    "for emp in employees:\n",
    "    tot_age +=emp[1]\n",
    "    tot_age"
   ]
  },
  {
   "cell_type": "code",
   "execution_count": 14,
   "metadata": {},
   "outputs": [
    {
     "name": "stdout",
     "output_type": "stream",
     "text": [
      "119\n"
     ]
    }
   ],
   "source": [
    "print(tot_age)"
   ]
  },
  {
   "cell_type": "code",
   "execution_count": 15,
   "metadata": {},
   "outputs": [
    {
     "name": "stdout",
     "output_type": "stream",
     "text": [
      "Shahid\n",
      "Ali\n",
      "Nasir\n",
      "sajid\n"
     ]
    }
   ],
   "source": [
    "for emp in employees:\n",
    "    a = emp[0]\n",
    "    print(a)"
   ]
  },
  {
   "cell_type": "code",
   "execution_count": 16,
   "metadata": {},
   "outputs": [
    {
     "name": "stdout",
     "output_type": "stream",
     "text": [
      "AI Eng\n",
      "Male\n",
      "shahid\n",
      "Male\n"
     ]
    }
   ],
   "source": [
    "for emp in employees:\n",
    "    b = emp[-1]\n",
    "    print(b)"
   ]
  },
  {
   "cell_type": "code",
   "execution_count": 17,
   "metadata": {},
   "outputs": [
    {
     "data": {
      "text/plain": [
       "[['Shahid', 21, 'Male', 25000],\n",
       " ['Ali', 22, 'Male', 30000],\n",
       " ['Nasir', 33, 'Male', 22000],\n",
       " ['sajid', 43, 'Male', 36000]]"
      ]
     },
     "execution_count": 17,
     "metadata": {},
     "output_type": "execute_result"
    }
   ],
   "source": [
    "employees1=[['Shahid', 21, 'Male', 25000],\n",
    " ['Ali', 22, 'Male', 30000],\n",
    " ['Nasir', 33, 'Male',22000],\n",
    " ['sajid', 43, 'Male',36000]]\n",
    "employees1"
   ]
  },
  {
   "cell_type": "code",
   "execution_count": 18,
   "metadata": {},
   "outputs": [
    {
     "name": "stdout",
     "output_type": "stream",
     "text": [
      "25000\n",
      "30000\n",
      "36000\n"
     ]
    }
   ],
   "source": [
    "for emp in employees1:\n",
    "    if emp[3]>22000:\n",
    "        print(emp[3])"
   ]
  },
  {
   "cell_type": "code",
   "execution_count": 19,
   "metadata": {},
   "outputs": [
    {
     "name": "stdout",
     "output_type": "stream",
     "text": [
      "25000\n",
      "55000\n",
      "91000\n"
     ]
    }
   ],
   "source": [
    "tot =0\n",
    "for emp in employees1:\n",
    "    if emp[3]>=25000:\n",
    "        tot +=emp[3]\n",
    "        print(tot)"
   ]
  },
  {
   "cell_type": "code",
   "execution_count": null,
   "metadata": {},
   "outputs": [],
   "source": []
  }
 ],
 "metadata": {
  "kernelspec": {
   "display_name": "Python 3",
   "language": "python",
   "name": "python3"
  },
  "language_info": {
   "codemirror_mode": {
    "name": "ipython",
    "version": 3
   },
   "file_extension": ".py",
   "mimetype": "text/x-python",
   "name": "python",
   "nbconvert_exporter": "python",
   "pygments_lexer": "ipython3",
   "version": "3.7.4"
  }
 },
 "nbformat": 4,
 "nbformat_minor": 2
}
