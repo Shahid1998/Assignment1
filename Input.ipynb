{
 "cells": [
  {
   "cell_type": "markdown",
   "metadata": {},
   "source": [
    "# Input Keyword"
   ]
  },
  {
   "cell_type": "code",
   "execution_count": 4,
   "metadata": {},
   "outputs": [
    {
     "name": "stdout",
     "output_type": "stream",
     "text": [
      "Enter Phy Marks 23\n",
      "Enter Eng Marks 23\n",
      "Enter Math Marks 23\n",
      "Enter CS  Marks 23\n",
      "Your Marks Average is  23.0\n"
     ]
    }
   ],
   "source": [
    "a = int(input(\"Enter Phy Marks \"))\n",
    "b = int(input(\"Enter Eng Marks \"))\n",
    "c = int(input(\"Enter Math Marks \"))\n",
    "d = int(input(\"Enter CS  Marks \"))\n",
    "sum = a+b+c+d\n",
    "sum\n",
    "avg = sum/4\n",
    "print(\"Your Marks Average is \", avg)\n"
   ]
  },
  {
   "cell_type": "code",
   "execution_count": 11,
   "metadata": {},
   "outputs": [
    {
     "data": {
      "text/plain": [
       "'shahid'"
      ]
     },
     "execution_count": 11,
     "metadata": {},
     "output_type": "execute_result"
    }
   ],
   "source": [
    "name= \"Shahid\"\n",
    "name.lower()"
   ]
  },
  {
   "cell_type": "code",
   "execution_count": 12,
   "metadata": {},
   "outputs": [
    {
     "data": {
      "text/plain": [
       "'SHAHID'"
      ]
     },
     "execution_count": 12,
     "metadata": {},
     "output_type": "execute_result"
    }
   ],
   "source": [
    "ab=\"shahid\"\n",
    "ab.upper()"
   ]
  },
  {
   "cell_type": "code",
   "execution_count": null,
   "metadata": {},
   "outputs": [],
   "source": []
  }
 ],
 "metadata": {
  "kernelspec": {
   "display_name": "Python 3",
   "language": "python",
   "name": "python3"
  },
  "language_info": {
   "codemirror_mode": {
    "name": "ipython",
    "version": 3
   },
   "file_extension": ".py",
   "mimetype": "text/x-python",
   "name": "python",
   "nbconvert_exporter": "python",
   "pygments_lexer": "ipython3",
   "version": "3.7.4"
  }
 },
 "nbformat": 4,
 "nbformat_minor": 2
}
