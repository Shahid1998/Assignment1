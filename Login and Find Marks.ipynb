{
 "cells": [
  {
   "cell_type": "code",
   "execution_count": 1,
   "metadata": {},
   "outputs": [
    {
     "name": "stdout",
     "output_type": "stream",
     "text": [
      "0 Pakistan\n",
      "1 Pakistan\n",
      "2 Pakistan\n",
      "3 Pakistan\n",
      "4 Pakistan\n",
      "5 Pakistan\n",
      "6 Pakistan\n",
      "7 Pakistan\n",
      "8 Pakistan\n",
      "9 Pakistan\n"
     ]
    }
   ],
   "source": [
    "for i in range(10):\n",
    "    print(i,\"Pakistan\")"
   ]
  },
  {
   "cell_type": "code",
   "execution_count": 1,
   "metadata": {},
   "outputs": [
    {
     "name": "stdout",
     "output_type": "stream",
     "text": [
      "Login Successful\n",
      "password success\n"
     ]
    }
   ],
   "source": [
    "username=\"shahid\"\n",
    "password=\"123456\"\n",
    "if username==\"shahid\":\n",
    "    if password==\"123456\":\n",
    "            print(\"Login Successful\")\n",
    "            print(\"password success\")\n",
    "    else:\n",
    "        print(\"password fail\")\n",
    "else:\n",
    "    \n",
    "    print(\"Login Failed\")"
   ]
  },
  {
   "cell_type": "markdown",
   "metadata": {},
   "source": []
  },
  {
   "cell_type": "code",
   "execution_count": 11,
   "metadata": {},
   "outputs": [],
   "source": [
    "mark = 85"
   ]
  },
  {
   "cell_type": "code",
   "execution_count": 18,
   "metadata": {},
   "outputs": [
    {
     "ename": "NameError",
     "evalue": "name 'makr' is not defined",
     "output_type": "error",
     "traceback": [
      "\u001b[1;31m---------------------------------------------------------------------------\u001b[0m",
      "\u001b[1;31mNameError\u001b[0m                                 Traceback (most recent call last)",
      "\u001b[1;32m<ipython-input-18-b6d2a23e24be>\u001b[0m in \u001b[0;36m<module>\u001b[1;34m\u001b[0m\n\u001b[1;32m----> 1\u001b[1;33m \u001b[1;32mif\u001b[0m \u001b[0mmakr\u001b[0m \u001b[1;33m>\u001b[0m \u001b[1;36m84\u001b[0m\u001b[1;33m:\u001b[0m\u001b[1;33m\u001b[0m\u001b[1;33m\u001b[0m\u001b[0m\n\u001b[0m\u001b[0;32m      2\u001b[0m \u001b[1;33m\u001b[0m\u001b[0m\n\u001b[0;32m      3\u001b[0m     \u001b[0mprint\u001b[0m\u001b[1;33m(\u001b[0m\u001b[1;34m\"Get A+ Grade\"\u001b[0m\u001b[1;33m)\u001b[0m\u001b[1;33m\u001b[0m\u001b[1;33m\u001b[0m\u001b[0m\n\u001b[0;32m      4\u001b[0m \u001b[1;33m\u001b[0m\u001b[0m\n\u001b[0;32m      5\u001b[0m \u001b[1;32melif\u001b[0m \u001b[0mmark\u001b[0m \u001b[1;33m>\u001b[0m \u001b[1;36m80\u001b[0m\u001b[1;33m:\u001b[0m\u001b[1;33m\u001b[0m\u001b[1;33m\u001b[0m\u001b[0m\n",
      "\u001b[1;31mNameError\u001b[0m: name 'makr' is not defined"
     ]
    }
   ],
   "source": [
    "\n",
    "if makr > 84:\n",
    "    \n",
    "    print(\"Get A+ Grade\")\n",
    "    \n",
    "elif mark > 80:\n",
    "    \n",
    "    print(\"Get A Grade\")\n",
    "    \n",
    "elif mark > 75:\n",
    "    \n",
    "    print(\"Get B+ Grade\")\n",
    "    \n",
    "elif mark > 70:\n",
    "    \n",
    "    print(\"Get B Grade\")\n",
    "    \n",
    "elif mark > 65:\n",
    "    \n",
    "    print(\"Get C Grade\")\n",
    "    \n",
    "elif mark > 60:\n",
    "    \n",
    "    print(\"Get D Grade\")\n",
    "    \n",
    "elif mark > 50:\n",
    "    \n",
    "    print(\"Get E Grade\")\n",
    "    \n",
    "else:\n",
    "     print(\"Fail\")"
   ]
  },
  {
   "cell_type": "code",
   "execution_count": 16,
   "metadata": {},
   "outputs": [],
   "source": [
    "marks=85"
   ]
  },
  {
   "cell_type": "code",
   "execution_count": 17,
   "metadata": {},
   "outputs": [
    {
     "name": "stdout",
     "output_type": "stream",
     "text": [
      "B Grade\n"
     ]
    }
   ],
   "source": [
    "if marks > 90:\n",
    "    print(\"A Grade\")\n",
    "    \n",
    "elif marks > 80:\n",
    "    print(\"B Grade\")\n",
    "    \n",
    "elif marks > 65:\n",
    "    print(\"C Grade\")\n",
    "elif marks > 50:\n",
    "    print(\"D Grade\")\n",
    "    \n",
    "else:\n",
    "    print(\"F Grade\")"
   ]
  },
  {
   "cell_type": "code",
   "execution_count": null,
   "metadata": {},
   "outputs": [],
   "source": []
  }
 ],
 "metadata": {
  "kernelspec": {
   "display_name": "Python 3",
   "language": "python",
   "name": "python3"
  },
  "language_info": {
   "codemirror_mode": {
    "name": "ipython",
    "version": 3
   },
   "file_extension": ".py",
   "mimetype": "text/x-python",
   "name": "python",
   "nbconvert_exporter": "python",
   "pygments_lexer": "ipython3",
   "version": "3.7.4"
  }
 },
 "nbformat": 4,
 "nbformat_minor": 2
}
